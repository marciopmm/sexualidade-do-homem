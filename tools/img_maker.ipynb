{
 "cells": [
  {
   "cell_type": "code",
   "execution_count": 1,
   "metadata": {},
   "outputs": [],
   "source": [
    "import os\n",
    "import re\n",
    "from urllib.parse import urlsplit\n",
    "from PIL import Image"
   ]
  },
  {
   "cell_type": "code",
   "execution_count": 4,
   "metadata": {},
   "outputs": [
    {
     "name": "stdout",
     "output_type": "stream",
     "text": [
      "<img src=\"assets/img/20201124_075847.jpg\" alt=\"Depoimento 1\">\n",
      "<img src=\"assets/img/20201124_152200.jpg\" alt=\"Depoimento 2\">\n",
      "<img src=\"assets/img/20201126_071729.jpg\" alt=\"Depoimento 3\">\n",
      "<img src=\"assets/img/20201127_134854.jpg\" alt=\"Depoimento 4\">\n",
      "<img src=\"assets/img/20201127_160318.jpg\" alt=\"Depoimento 5\">\n",
      "<img src=\"assets/img/controle-2.0-3-1024x177.png\" alt=\"Depoimento 6\">\n",
      "<img src=\"assets/img/controle-2.0-quadrado.png\" alt=\"Depoimento 7\">\n",
      "<img src=\"assets/img/Dep-Aula-1-1.jpg\" alt=\"Depoimento 8\">\n",
      "<img src=\"assets/img/Dep.-11-sem-nome.jpg\" alt=\"Depoimento 9\">\n",
      "<img src=\"assets/img/Dep.-13-sem-nome.jpg\" alt=\"Depoimento 10\">\n",
      "<img src=\"assets/img/Dep.-14-sem-nome.jpg\" alt=\"Depoimento 11\">\n",
      "<img src=\"assets/img/Dep.-18.jpeg\" alt=\"Depoimento 12\">\n",
      "<img src=\"assets/img/Dep.-19-sem-nome.jpg\" alt=\"Depoimento 13\">\n",
      "<img src=\"assets/img/Dep.-20-sem-nome.jpg\" alt=\"Depoimento 14\">\n",
      "<img src=\"assets/img/Dep.-21-sem-nome.jpg\" alt=\"Depoimento 15\">\n",
      "<img src=\"assets/img/Dep.-22.jpeg\" alt=\"Depoimento 16\">\n",
      "<img src=\"assets/img/Dep.-23-.jpg\" alt=\"Depoimento 17\">\n",
      "<img src=\"assets/img/Dep.-24.jpg\" alt=\"Depoimento 18\">\n",
      "<img src=\"assets/img/Dep.-29-.jpg\" alt=\"Depoimento 19\">\n",
      "<img src=\"assets/img/Dep.-4-sem-nome.jpg\" alt=\"Depoimento 20\">\n",
      "<img src=\"assets/img/Dep.-6-sem-nome.jpg\" alt=\"Depoimento 21\">\n",
      "<img src=\"assets/img/Dep.-8-sem-nome.jpg\" alt=\"Depoimento 22\">\n",
      "<img src=\"assets/img/Dep.-9-sem-nome.jpg\" alt=\"Depoimento 23\">\n",
      "<img src=\"assets/img/Depoimento-C2.0-2020.09.18.jpg\" alt=\"Depoimento 24\">\n",
      "<img src=\"assets/img/depoimento-combo-gh-1.png\" alt=\"Depoimento 25\">\n",
      "<img src=\"assets/img/depoimento-combo-gh-3.png\" alt=\"Depoimento 26\">\n",
      "<img src=\"assets/img/depomento-controle-20-23.jpeg\" alt=\"Depoimento 27\">\n",
      "<img src=\"assets/img/fundo01.jpg\" alt=\"Depoimento 28\">\n",
      "<img src=\"assets/img/fundo02.jpg\" alt=\"Depoimento 29\">\n",
      "<img src=\"assets/img/garantia-30.png\" alt=\"Depoimento 30\">\n",
      "<img src=\"assets/img/icones-garantia-e-pagamentos.png\" alt=\"Depoimento 31\">\n",
      "<img src=\"assets/img/logo-sdh.jpg\" alt=\"Depoimento 32\">\n",
      "<img src=\"assets/img/ReaisCausas.jpg\" alt=\"Depoimento 33\">\n",
      "<img src=\"assets/img/thumbnail01.jpg\" alt=\"Depoimento 34\">\n"
     ]
    }
   ],
   "source": [
    "path = \"C:\\\\Users\\\\Marcio\\\\source\\\\repos\\\\git\\\\sexualidade-do-homem\\\\src\\\\assets\\\\img\"\n",
    "files = os.listdir(path)\n",
    "i = 1\n",
    "\n",
    "for file in files:\n",
    "    print(f'<img src=\"assets/img/{file}\" alt=\"Depoimento {i}\">')\n",
    "    i += 1"
   ]
  },
  {
   "cell_type": "markdown",
   "metadata": {},
   "source": [
    "# Mudança da tag \"a\" para minificar as imagens"
   ]
  },
  {
   "cell_type": "code",
   "execution_count": 53,
   "metadata": {},
   "outputs": [],
   "source": [
    "list = [\n",
    "    '<a href=\"assets/img/Dep.-21-sem-nome.jpg\" rel=\"prettyPhoto\" title=\"Single Photo\"><img src=\"assets/img/Dep.-21-sem-nome_min.jpg\" alt=\"Depoimento 15\"></a>'\n",
    "]"
   ]
  },
  {
   "cell_type": "code",
   "execution_count": 54,
   "metadata": {},
   "outputs": [
    {
     "name": "stdout",
     "output_type": "stream",
     "text": [
      "Imagem: assets/img/Dep.-21-sem-nome.jpg - Width: 580px / Height: 640px\n",
      "Nova Imagem: assets/img/Dep.-21-sem-nome_min.jpg - Width: 300px / Height: 331px\n"
     ]
    }
   ],
   "source": [
    "rx = re.compile(r'<a href=\"([^\"]+)\"')\n",
    "path = 'C:\\\\Users\\\\Marcio\\\\source\\\\repos\\\\git\\\\sexualidade-do-homem\\\\src\\\\'\n",
    "max = 300\n",
    "for img in list:\n",
    "    rate = 0\n",
    "    imgName = rx.search(img).group(1)\n",
    "    newImgName = str.replace(imgName, \".jpg\", \"_min.jpg\")\n",
    "    imagem = Image.open(os.path.join(path, imgName))\n",
    "    width, height = imagem.size\n",
    "    print(f'Imagem: {imgName} - Width: {width}px / Height: {height}px')\n",
    "    #if width >= height:\n",
    "    rate = height / width\n",
    "    width = max\n",
    "    height = int(width * rate)\n",
    "    #else:\n",
    "    #    rate = width / height\n",
    "    #    width = max\n",
    "    #    height = int(width * rate)\n",
    "    \n",
    "    \n",
    "\n",
    "    newImagem = imagem.resize((width, height))\n",
    "    newImagem.save(os.path.join(path, newImgName))\n",
    "    print(f'Nova Imagem: {newImgName} - Width: {width}px / Height: {height}px')\n"
   ]
  },
  {
   "cell_type": "code",
   "execution_count": 17,
   "metadata": {},
   "outputs": [
    {
     "name": "stdout",
     "output_type": "stream",
     "text": [
      "<a href=\"assets/img/20201124_075847.jpg\" rel=\"prettyPhoto\" title=\"Single Photo\"><img src=\"assets/img/20201124_075847_min.jpg\" alt=\"Depoimento 1\"></a>\n",
      "<a href=\"assets/img/20201124_152200.jpg\" rel=\"prettyPhoto\" title=\"Single Photo\"><img src=\"assets/img/20201124_152200_min.jpg\" alt=\"Depoimento 2\"></a>\n",
      "<a href=\"assets/img/20201126_071729.jpg\" rel=\"prettyPhoto\" title=\"Single Photo\"><img src=\"assets/img/20201126_071729_min.jpg\" alt=\"Depoimento 3\"></a>\n",
      "<a href=\"assets/img/20201127_134854.jpg\" rel=\"prettyPhoto\" title=\"Single Photo\"><img src=\"assets/img/20201127_134854_min.jpg\" alt=\"Depoimento 4\"></a>\n",
      "<a href=\"assets/img/20201127_160318.jpg\" rel=\"prettyPhoto\" title=\"Single Photo\"><img src=\"assets/img/20201127_160318_min.jpg\" alt=\"Depoimento 5\"></a>\n",
      "<a href=\"assets/img/Dep-Aula-1-1.jpg\" rel=\"prettyPhoto\" title=\"Single Photo\"><img src=\"assets/img/Dep-Aula-1-1_min.jpg\" alt=\"Depoimento 8\"></a>\n",
      "<a href=\"assets/img/Dep.-11-sem-nome.jpg\" rel=\"prettyPhoto\" title=\"Single Photo\"><img src=\"assets/img/Dep.-11-sem-nome_min.jpg\" alt=\"Depoimento 9\"></a>\n",
      "<a href=\"assets/img/Dep.-13-sem-nome.jpg\" rel=\"prettyPhoto\" title=\"Single Photo\"><img src=\"assets/img/Dep.-13-sem-nome_min.jpg\" alt=\"Depoimento 10\"></a>\n",
      "<a href=\"assets/img/Dep.-14-sem-nome.jpg\" rel=\"prettyPhoto\" title=\"Single Photo\"><img src=\"assets/img/Dep.-14-sem-nome_min.jpg\" alt=\"Depoimento 11\"></a>\n",
      "<a href=\"assets/img/Dep.-18.jpeg\" rel=\"prettyPhoto\" title=\"Single Photo\"><img src=\"assets/img/Dep.-18.jpeg_min.jpg\" alt=\"Depoimento 12\"></a>\n",
      "<a href=\"assets/img/Dep.-19-sem-nome.jpg\" rel=\"prettyPhoto\" title=\"Single Photo\"><img src=\"assets/img/Dep.-19-sem-nome_min.jpg\" alt=\"Depoimento 13\"></a>\n",
      "<a href=\"assets/img/Dep.-20-sem-nome.jpg\" rel=\"prettyPhoto\" title=\"Single Photo\"><img src=\"assets/img/Dep.-20-sem-nome_min.jpg\" alt=\"Depoimento 14\"></a>\n",
      "<a href=\"assets/img/Dep.-21-sem-nome.jpg\" rel=\"prettyPhoto\" title=\"Single Photo\"><img src=\"assets/img/Dep.-21-sem-nome_min.jpg\" alt=\"Depoimento 15\"></a>\n",
      "<a href=\"assets/img/Dep.-22.jpeg\" rel=\"prettyPhoto\" title=\"Single Photo\"><img src=\"assets/img/Dep.-22.jpeg_min.jpg\" alt=\"Depoimento 16\"></a>\n",
      "<a href=\"assets/img/Dep.-23-.jpg\" rel=\"prettyPhoto\" title=\"Single Photo\"><img src=\"assets/img/Dep.-23-_min.jpg\" alt=\"Depoimento 17\"></a>\n",
      "<a href=\"assets/img/Dep.-24.jpg\" rel=\"prettyPhoto\" title=\"Single Photo\"><img src=\"assets/img/Dep.-24_min.jpg\" alt=\"Depoimento 18\"></a>\n",
      "<a href=\"assets/img/Dep.-29-.jpg\" rel=\"prettyPhoto\" title=\"Single Photo\"><img src=\"assets/img/Dep.-29-_min.jpg\" alt=\"Depoimento 19\"></a>\n",
      "<a href=\"assets/img/Dep.-4-sem-nome.jpg\" rel=\"prettyPhoto\" title=\"Single Photo\"><img src=\"assets/img/Dep.-4-sem-nome_min.jpg\" alt=\"Depoimento 20\"></a>\n",
      "<a href=\"assets/img/Dep.-6-sem-nome.jpg\" rel=\"prettyPhoto\" title=\"Single Photo\"><img src=\"assets/img/Dep.-6-sem-nome_min.jpg\" alt=\"Depoimento 21\"></a>\n",
      "<a href=\"assets/img/Dep.-8-sem-nome.jpg\" rel=\"prettyPhoto\" title=\"Single Photo\"><img src=\"assets/img/Dep.-8-sem-nome_min.jpg\" alt=\"Depoimento 22\"></a>\n",
      "<a href=\"assets/img/Dep.-9-sem-nome.jpg\" rel=\"prettyPhoto\" title=\"Single Photo\"><img src=\"assets/img/Dep.-9-sem-nome_min.jpg\" alt=\"Depoimento 23\"></a>\n",
      "<a href=\"assets/img/Depoimento-C2.0-2020.09.18.jpg\" rel=\"prettyPhoto\" title=\"Single Photo\"><img src=\"assets/img/Depoimento-C2.0-2020.09.18_min.jpg\" alt=\"Depoimento 24\"></a>\n",
      "<a href=\"assets/img/depoimento-combo-gh-1.png\" rel=\"prettyPhoto\" title=\"Single Photo\"><img src=\"assets/img/depoimento-combo-gh-1.png_min.jpg\" alt=\"Depoimento 25\"></a>\n",
      "<a href=\"assets/img/depoimento-combo-gh-3.png\" rel=\"prettyPhoto\" title=\"Single Photo\"><img src=\"assets/img/depoimento-combo-gh-3.png_min.jpg\" alt=\"Depoimento 26\"></a>\n",
      "<a href=\"assets/img/depomento-controle-20-23.jpeg\" rel=\"prettyPhoto\" title=\"Single Photo\"><img src=\"assets/img/depomento-controle-20-23.jpeg_min.jpg\" alt=\"Depoimento 27\"></a>\n"
     ]
    }
   ],
   "source": [
    "rx = re.compile(r'<img src=\"([^\"]+)\" alt=\"([^\"]+)\">')\n",
    "for line in list:\n",
    "    imgName = rx.search(line).group(1)\n",
    "    desc = rx.search(line).group(2)\n",
    "    line = str.replace(line, f'<img src=\"{imgName}\" alt=\"{desc}\">', f'<img src=\"{imgName}_min.jpg\" alt=\"{desc}\">')\n",
    "    line = str.replace(line, '.jpg_min.jpg', '_min.jpg')\n",
    "    print(line)"
   ]
  },
  {
   "cell_type": "code",
   "execution_count": 46,
   "metadata": {},
   "outputs": [],
   "source": [
    "png = Image.open('C:\\\\Users\\\\Marcio\\\\source\\\\repos\\\\git\\\\sexualidade-do-homem\\\\src\\\\assets\\\\img\\\\depoimento-combo-gh-3.png')\n",
    "jpeg = png.convert('RGB') # JPG\n",
    "jpeg.save('C:\\\\Users\\\\Marcio\\\\source\\\\repos\\\\git\\\\sexualidade-do-homem\\\\src\\\\assets\\\\img\\\\depoimento-combo-gh-3.jpg')"
   ]
  }
 ],
 "metadata": {
  "kernelspec": {
   "display_name": "Python 3",
   "language": "python",
   "name": "python3"
  },
  "language_info": {
   "codemirror_mode": {
    "name": "ipython",
    "version": 3
   },
   "file_extension": ".py",
   "mimetype": "text/x-python",
   "name": "python",
   "nbconvert_exporter": "python",
   "pygments_lexer": "ipython3",
   "version": "3.12.3"
  }
 },
 "nbformat": 4,
 "nbformat_minor": 2
}
