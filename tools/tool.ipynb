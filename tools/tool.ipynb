{
 "cells": [
  {
   "cell_type": "code",
   "execution_count": 1,
   "metadata": {},
   "outputs": [],
   "source": [
    "import os\n",
    "import re\n",
    "import requests\n",
    "from urllib.parse import urlsplit\n",
    "from PIL import Image"
   ]
  },
  {
   "cell_type": "code",
   "execution_count": 2,
   "metadata": {},
   "outputs": [],
   "source": [
    "folder = \"C:\\\\Users\\\\Marcio\\\\source\\\\repos\\\\git\\\\sexualidade-do-homem\\\\src\\\\assets\\\\img\"\n",
    "if not os.path.exists(folder):\n",
    "    os.makedirs(folder)"
   ]
  },
  {
   "cell_type": "code",
   "execution_count": 3,
   "metadata": {},
   "outputs": [],
   "source": [
    "html = \"\"\n",
    "with open(\"previous_source.txt\", \"r\", encoding='utf-8') as f:\n",
    "    html = f.read()"
   ]
  },
  {
   "cell_type": "code",
   "execution_count": 4,
   "metadata": {},
   "outputs": [],
   "source": [
    "pattern = re.compile(r'<img.+?src=\"([^\"]+)\".*?[^>]>')"
   ]
  },
  {
   "cell_type": "code",
   "execution_count": 5,
   "metadata": {},
   "outputs": [],
   "source": [
    "matches = pattern.findall(html)"
   ]
  },
  {
   "cell_type": "code",
   "execution_count": 6,
   "metadata": {},
   "outputs": [],
   "source": [
    "for url in matches:\n",
    "    url_components = urlsplit(url)\n",
    "    image_file_name = os.path.basename(url_components.path)\n",
    "    #image_file_name = os.path.basename(url_components.path)\n",
    "    full_name = os.path.join(folder, image_file_name)\n",
    "    response = requests.get(url)\n",
    "    with open(full_name, 'wb') as f:\n",
    "        f.write(response.content)\n",
    "\n",
    "    #img = Image.open(full_name)\n",
    "\n",
    "    #png_image = img.convert('RGBA')\n",
    "    #png_image.save(str.replace(full_name, \".webp\", \".png\"))"
   ]
  },
  {
   "cell_type": "code",
   "execution_count": 17,
   "metadata": {},
   "outputs": [],
   "source": [
    "full_name = os.path.join(folder, 'main_0_.png')\n",
    "img = Image.open(full_name)\n",
    "\n",
    "png_image = img.convert('RGB') # JPG \n",
    "#png_image = img.convert('RGBA') # PNG\n",
    "png_image.save(str.replace(full_name, \".png\", \".jpg\"))"
   ]
  }
 ],
 "metadata": {
  "kernelspec": {
   "display_name": "Python 3",
   "language": "python",
   "name": "python3"
  },
  "language_info": {
   "codemirror_mode": {
    "name": "ipython",
    "version": 3
   },
   "file_extension": ".py",
   "mimetype": "text/x-python",
   "name": "python",
   "nbconvert_exporter": "python",
   "pygments_lexer": "ipython3",
   "version": "3.12.3"
  }
 },
 "nbformat": 4,
 "nbformat_minor": 2
}
